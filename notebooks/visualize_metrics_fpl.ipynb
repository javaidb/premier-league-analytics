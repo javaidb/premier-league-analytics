{
 "cells": [
  {
   "cell_type": "code",
   "execution_count": 1,
   "metadata": {},
   "outputs": [
    {
     "name": "stderr",
     "output_type": "stream",
     "text": [
      "C:\\conda_tmp\\ipykernel_33332\\1458342156.py:1: DeprecationWarning: Importing display from IPython.core.display is deprecated since IPython 7.14, please import from IPython.display\n",
      "  from IPython.core.display import display, HTML\n"
     ]
    },
    {
     "data": {
      "text/html": [
       "<style>.container { width:100% !important; }</style>"
      ],
      "text/plain": [
       "<IPython.core.display.HTML object>"
      ]
     },
     "metadata": {},
     "output_type": "display_data"
    }
   ],
   "source": [
    "from IPython.core.display import display, HTML\n",
    "display(HTML(\"<style>.container { width:100% !important; }</style>\"))\n",
    "import pandas as pd\n",
    "pd.set_option('display.max_columns', None)"
   ]
  },
  {
   "cell_type": "markdown",
   "metadata": {},
   "source": [
    "<center>\n",
    "    <img src=\"https://logodownload.org/wp-content/uploads/2016/03/premier-league-5.png\" width=\"75\" alt=\"cognitiveclass.ai logo\">\n",
    "</center>\n",
    "\n",
    "# Premier League API Retrieval, Data Collection and Visualization: Create & Visualize FPL Performance Metrics\n",
    "\n",
    "<!-- Estimated time needed: **15** minutes -->\n",
    "\n",
    "## Functions of notebook\n",
    "\n",
    "This notebook was built to:\n",
    "\n",
    "*   Retrieve data from Premier League API\n",
    "-   Create attributes with fetched data to effectively collect and compile data.\n",
    "*   Query data from attributres/functions to build visualization and statistics\n"
   ]
  },
  {
   "cell_type": "code",
   "execution_count": 2,
   "metadata": {
    "tags": []
   },
   "outputs": [
    {
     "name": "stdout",
     "output_type": "stream",
     "text": [
      "Fetching data from FPL API.\n"
     ]
    },
    {
     "data": {
      "application/vnd.jupyter.widget-view+json": {
       "model_id": "f53d19f32c4e45d08ee2a8baf3ee4025",
       "version_major": 2,
       "version_minor": 0
      },
      "text/plain": [
       "Building element summaries:   0%|          | 0/721 [00:00<?, ?it/s]"
      ]
     },
     "metadata": {},
     "output_type": "display_data"
    },
    {
     "name": "stdout",
     "output_type": "stream",
     "text": [
      "Building master datasets from raw data via FPL API.\n",
      "Building master summary.\n",
      "Assigning FPL helper functions to parsed and consolidated data via FPL.\n"
     ]
    }
   ],
   "source": [
    "import sys\n",
    "import os\n",
    "sys.path.append(os.path.abspath('..'))\n",
    "from src.functions.data_analysis import FPLDataAnalytics\n",
    "from src.functions.data_visualization import NotebookDataVisualizer, FigureExporter\n",
    "from src.functions.notebook_utils import create_search_widget"
   ]
  },
  {
   "cell_type": "code",
   "execution_count": 4,
   "metadata": {},
   "outputs": [
    {
     "name": "stderr",
     "output_type": "stream",
     "text": [
      "C:\\Users\\Javaid Baksh\\Documents\\Projects\\FPL\\FPL-Stats\\.venv_fpl\\Lib\\site-packages\\numpy\\_core\\fromnumeric.py:3904: RuntimeWarning: Mean of empty slice.\n",
      "  return _methods._mean(a, axis=axis, dtype=dtype,\n",
      "C:\\Users\\Javaid Baksh\\Documents\\Projects\\FPL\\FPL-Stats\\.venv_fpl\\Lib\\site-packages\\numpy\\_core\\_methods.py:147: RuntimeWarning: invalid value encountered in scalar divide\n",
      "  ret = ret.dtype.type(ret / rcount)\n"
     ]
    },
    {
     "ename": "KeyError",
     "evalue": "712",
     "output_type": "error",
     "traceback": [
      "\u001b[1;31m---------------------------------------------------------------------------\u001b[0m",
      "\u001b[1;31mKeyError\u001b[0m                                  Traceback (most recent call last)",
      "Cell \u001b[1;32mIn[4], line 1\u001b[0m\n\u001b[1;32m----> 1\u001b[0m fpl_data_attributes \u001b[38;5;241m=\u001b[39m \u001b[43mFPLDataAnalytics\u001b[49m\u001b[43m(\u001b[49m\u001b[43m)\u001b[49m\n",
      "File \u001b[1;32m~\\Documents\\Projects\\FPL\\FPL-Stats\\src\\functions\\data_analysis.py:18\u001b[0m, in \u001b[0;36mFPLDataAnalytics.__init__\u001b[1;34m(self)\u001b[0m\n\u001b[0;32m     16\u001b[0m \u001b[38;5;66;03m# self.personal_team_df = self.compile_fpl_team() #df_out\u001b[39;00m\n\u001b[0;32m     17\u001b[0m \u001b[38;5;28mself\u001b[39m\u001b[38;5;241m.\u001b[39mpersonal_team_data \u001b[38;5;241m=\u001b[39m \u001b[38;5;28mself\u001b[39m\u001b[38;5;241m.\u001b[39m_compile_personal_team_data() \u001b[38;5;66;03m#df_fpl\u001b[39;00m\n\u001b[1;32m---> 18\u001b[0m \u001b[38;5;28mself\u001b[39m\u001b[38;5;241m.\u001b[39mreplacement_players \u001b[38;5;241m=\u001b[39m \u001b[38;5;28;43mself\u001b[39;49m\u001b[38;5;241;43m.\u001b[39;49m\u001b[43m_compile_prospects\u001b[49m\u001b[43m(\u001b[49m\u001b[43m)\u001b[49m\n\u001b[0;32m     19\u001b[0m \u001b[38;5;28mself\u001b[39m\u001b[38;5;241m.\u001b[39mbeacon_effective_ownership \u001b[38;5;241m=\u001b[39m \u001b[38;5;28mself\u001b[39m\u001b[38;5;241m.\u001b[39m_generate_beacon_effective_ownership()\n",
      "File \u001b[1;32m~\\Documents\\Projects\\FPL\\FPL-Stats\\src\\functions\\data_analysis.py:376\u001b[0m, in \u001b[0;36mFPLDataAnalytics._compile_prospects\u001b[1;34m(self, list_of_ids)\u001b[0m\n\u001b[0;32m    374\u001b[0m \u001b[38;5;28;01mdef\u001b[39;00m \u001b[38;5;21m_compile_prospects\u001b[39m(\u001b[38;5;28mself\u001b[39m, list_of_ids: \u001b[38;5;28mlist\u001b[39m \u001b[38;5;241m=\u001b[39m \u001b[38;5;28;01mNone\u001b[39;00m):\n\u001b[0;32m    375\u001b[0m     \u001b[38;5;28;01mif\u001b[39;00m list_of_ids \u001b[38;5;129;01mis\u001b[39;00m \u001b[38;5;28;01mNone\u001b[39;00m: list_of_ids \u001b[38;5;241m=\u001b[39m \u001b[38;5;28mself\u001b[39m\u001b[38;5;241m.\u001b[39mhelper_fns\u001b[38;5;241m.\u001b[39mplayer_ids\n\u001b[1;32m--> 376\u001b[0m     df \u001b[38;5;241m=\u001b[39m \u001b[38;5;28;43mself\u001b[39;49m\u001b[38;5;241;43m.\u001b[39;49m\u001b[43mapply_scores_and_compile_prospects\u001b[49m\u001b[43m(\u001b[49m\u001b[43mlist_of_ids\u001b[49m\u001b[43m)\u001b[49m\n\u001b[0;32m    377\u001b[0m     df[\u001b[38;5;124m'\u001b[39m\u001b[38;5;124mplayer_name\u001b[39m\u001b[38;5;124m'\u001b[39m] \u001b[38;5;241m=\u001b[39m df[\u001b[38;5;124m'\u001b[39m\u001b[38;5;124mplayer_id\u001b[39m\u001b[38;5;124m'\u001b[39m]\u001b[38;5;241m.\u001b[39mapply(\u001b[38;5;28mself\u001b[39m\u001b[38;5;241m.\u001b[39mhelper_fns\u001b[38;5;241m.\u001b[39mgrab_player_name_fpl)\n\u001b[0;32m    378\u001b[0m     df[\u001b[38;5;124m'\u001b[39m\u001b[38;5;124mplayer_pos\u001b[39m\u001b[38;5;124m'\u001b[39m] \u001b[38;5;241m=\u001b[39m df[\u001b[38;5;124m'\u001b[39m\u001b[38;5;124mplayer_id\u001b[39m\u001b[38;5;124m'\u001b[39m]\u001b[38;5;241m.\u001b[39mapply(\u001b[38;5;28mself\u001b[39m\u001b[38;5;241m.\u001b[39mhelper_fns\u001b[38;5;241m.\u001b[39mgrab_player_pos)\n",
      "File \u001b[1;32m~\\Documents\\Projects\\FPL\\FPL-Stats\\src\\functions\\data_analysis.py:356\u001b[0m, in \u001b[0;36mFPLDataAnalytics.apply_scores_and_compile_prospects\u001b[1;34m(self, list_of_ids, lookback_period)\u001b[0m\n\u001b[0;32m    354\u001b[0m \u001b[38;5;28;01mdef\u001b[39;00m \u001b[38;5;21mapply_scores_and_compile_prospects\u001b[39m(\u001b[38;5;28mself\u001b[39m, list_of_ids: \u001b[38;5;28mlist\u001b[39m, lookback_period\u001b[38;5;241m=\u001b[39m\u001b[38;5;241m6\u001b[39m):\n\u001b[0;32m    355\u001b[0m     form_score_data \u001b[38;5;241m=\u001b[39m \u001b[38;5;28mself\u001b[39m\u001b[38;5;241m.\u001b[39mscore_players_on_form(\u001b[38;5;28mself\u001b[39m\u001b[38;5;241m.\u001b[39mhelper_fns\u001b[38;5;241m.\u001b[39mplayer_ids, lookback_period)\n\u001b[1;32m--> 356\u001b[0m     fixture_score_data \u001b[38;5;241m=\u001b[39m \u001b[38;5;28;43mself\u001b[39;49m\u001b[38;5;241;43m.\u001b[39;49m\u001b[43mscore_players_on_fixtures\u001b[49m\u001b[43m(\u001b[49m\u001b[38;5;28;43mself\u001b[39;49m\u001b[38;5;241;43m.\u001b[39;49m\u001b[43mhelper_fns\u001b[49m\u001b[38;5;241;43m.\u001b[39;49m\u001b[43mplayer_ids\u001b[49m\u001b[43m,\u001b[49m\u001b[43m \u001b[49m\u001b[38;5;241;43m4\u001b[39;49m\u001b[43m)\u001b[49m\n\u001b[0;32m    357\u001b[0m     \u001b[38;5;66;03m# team_score_data = self.score_players_on_fixtures(self.api_parser.player_ids)\u001b[39;00m\n\u001b[0;32m    359\u001b[0m     df \u001b[38;5;241m=\u001b[39m pd\u001b[38;5;241m.\u001b[39mDataFrame\u001b[38;5;241m.\u001b[39mfrom_dict({\n\u001b[0;32m    360\u001b[0m             player_id: {\n\u001b[0;32m    361\u001b[0m                 \u001b[38;5;124m'\u001b[39m\u001b[38;5;124melo_form_score_pres\u001b[39m\u001b[38;5;124m'\u001b[39m: form_score_data[player_id][\u001b[38;5;124m'\u001b[39m\u001b[38;5;124mpresent_elo\u001b[39m\u001b[38;5;124m'\u001b[39m],\n\u001b[1;32m   (...)\u001b[0m\n\u001b[0;32m    368\u001b[0m         },\n\u001b[0;32m    369\u001b[0m         orient\u001b[38;5;241m=\u001b[39m\u001b[38;5;124m'\u001b[39m\u001b[38;5;124mindex\u001b[39m\u001b[38;5;124m'\u001b[39m)\u001b[38;5;241m.\u001b[39mreset_index()\n",
      "File \u001b[1;32m~\\Documents\\Projects\\FPL\\FPL-Stats\\src\\functions\\data_analysis.py:330\u001b[0m, in \u001b[0;36mFPLDataAnalytics.score_players_on_fixtures\u001b[1;34m(self, list_of_ids, lookback_period)\u001b[0m\n\u001b[0;32m    323\u001b[0m \u001b[38;5;28;01melse\u001b[39;00m:\n\u001b[0;32m    324\u001b[0m     \u001b[38;5;66;03m# upcoming_fixtures = [(fdr,  h_a) for fdr,  h_a in zip(difficulty_ratings, home_away_info)]\u001b[39;00m\n\u001b[0;32m    325\u001b[0m     player_future_data \u001b[38;5;241m=\u001b[39m {\n\u001b[0;32m    326\u001b[0m         \u001b[38;5;124m'\u001b[39m\u001b[38;5;124mfdr\u001b[39m\u001b[38;5;124m'\u001b[39m: difficulty_ratings,\n\u001b[0;32m    327\u001b[0m         \u001b[38;5;124m'\u001b[39m\u001b[38;5;124mh_a\u001b[39m\u001b[38;5;124m'\u001b[39m: home_away_info\n\u001b[0;32m    328\u001b[0m     }\n\u001b[1;32m--> 330\u001b[0m     player_historical_dict \u001b[38;5;241m=\u001b[39m \u001b[43mhistorical_data\u001b[49m\u001b[43m[\u001b[49m\u001b[38;5;28;43mint\u001b[39;49m\u001b[43m(\u001b[49m\u001b[43mplayer_id\u001b[49m\u001b[43m)\u001b[49m\u001b[43m]\u001b[49m\n\u001b[0;32m    331\u001b[0m     player_historical_data \u001b[38;5;241m=\u001b[39m {\n\u001b[0;32m    332\u001b[0m         \u001b[38;5;124m'\u001b[39m\u001b[38;5;124mh_a\u001b[39m\u001b[38;5;124m'\u001b[39m: player_historical_dict[\u001b[38;5;124m'\u001b[39m\u001b[38;5;124mwas_home\u001b[39m\u001b[38;5;124m'\u001b[39m],\n\u001b[0;32m    333\u001b[0m         \u001b[38;5;124m'\u001b[39m\u001b[38;5;124mteam_a_score\u001b[39m\u001b[38;5;124m'\u001b[39m: player_historical_dict[\u001b[38;5;124m'\u001b[39m\u001b[38;5;124mteam_a_score\u001b[39m\u001b[38;5;124m'\u001b[39m],\n\u001b[1;32m   (...)\u001b[0m\n\u001b[0;32m    336\u001b[0m         \u001b[38;5;124m'\u001b[39m\u001b[38;5;124mtotal_points\u001b[39m\u001b[38;5;124m'\u001b[39m: player_historical_dict[\u001b[38;5;124m'\u001b[39m\u001b[38;5;124mtotal_points\u001b[39m\u001b[38;5;124m'\u001b[39m],\n\u001b[0;32m    337\u001b[0m     }\n\u001b[0;32m    339\u001b[0m     fixture_score \u001b[38;5;241m=\u001b[39m \u001b[38;5;28mself\u001b[39m\u001b[38;5;241m.\u001b[39m_calculate_fixture_score(player_historical_data, player_future_data)\n",
      "\u001b[1;31mKeyError\u001b[0m: 712"
     ]
    }
   ],
   "source": [
    "fpl_data_attributes = FPLDataAnalytics()"
   ]
  },
  {
   "cell_type": "code",
   "execution_count": null,
   "metadata": {},
   "outputs": [],
   "source": [
    "# FigureExporter(fpl_data_attributes)"
   ]
  },
  {
   "cell_type": "code",
   "execution_count": null,
   "metadata": {},
   "outputs": [],
   "source": [
    "data_vis_ops = NotebookDataVisualizer(fpl_data_attributes)"
   ]
  },
  {
   "cell_type": "markdown",
   "metadata": {},
   "source": [
    "---"
   ]
  },
  {
   "cell_type": "markdown",
   "metadata": {},
   "source": [
    "Variables available from \"fpl_data_attributes\":"
   ]
  },
  {
   "cell_type": "code",
   "execution_count": null,
   "metadata": {},
   "outputs": [],
   "source": [
    "create_search_widget(list(fpl_data_attributes.helper_fns.__dict__.keys()))"
   ]
  },
  {
   "cell_type": "code",
   "execution_count": null,
   "metadata": {},
   "outputs": [],
   "source": [
    "# fpl_data_attributes.helper_fns.raw_data['elements'][0]"
   ]
  },
  {
   "cell_type": "code",
   "execution_count": null,
   "metadata": {},
   "outputs": [],
   "source": [
    "# fpl_data_attributes.score_players_on_fixtures(fpl_data_attributes.helper_fns.player_ids)"
   ]
  },
  {
   "cell_type": "markdown",
   "metadata": {},
   "source": [
    "---"
   ]
  },
  {
   "cell_type": "markdown",
   "metadata": {},
   "source": [
    "### League Analysis"
   ]
  },
  {
   "cell_type": "code",
   "execution_count": null,
   "metadata": {},
   "outputs": [],
   "source": [
    "# league_rank_data = fpl_data_attributes.helper_fns.get_rank_data(778049)"
   ]
  },
  {
   "cell_type": "code",
   "execution_count": null,
   "metadata": {
    "tags": []
   },
   "outputs": [],
   "source": [
    "# league_rank_data"
   ]
  },
  {
   "cell_type": "markdown",
   "metadata": {},
   "source": [
    "---"
   ]
  },
  {
   "cell_type": "markdown",
   "metadata": {},
   "source": [
    "## Performance Spread"
   ]
  },
  {
   "cell_type": "markdown",
   "metadata": {},
   "source": [
    "### Latest Performance Ranking\n",
    "Here you can visualize statistics based on the best performing players for each position."
   ]
  },
  {
   "cell_type": "code",
   "execution_count": null,
   "metadata": {},
   "outputs": [],
   "source": [
    "full_sum = data_vis_ops.display_tabular_summary()"
   ]
  },
  {
   "cell_type": "markdown",
   "metadata": {},
   "source": [
    "### Personal FPL Statistics\n",
    "Here you can visualize the spread of the same performance statistics but for your personal FPL team."
   ]
  },
  {
   "cell_type": "code",
   "execution_count": null,
   "metadata": {},
   "outputs": [],
   "source": [
    "fpl_sum = data_vis_ops.build_player_tabular_summary(list(fpl_data_attributes.personal_team_data.keys()))"
   ]
  },
  {
   "cell_type": "markdown",
   "metadata": {},
   "source": [
    "### Custom FPL Statistics\n",
    "Here you can visualize the spread of the same performance statistics but for custom players."
   ]
  },
  {
   "cell_type": "code",
   "execution_count": null,
   "metadata": {},
   "outputs": [],
   "source": [
    "names = [\n",
    "    'sanchez',\n",
    "    'konate',\n",
    "    'konsa',\n",
    "    'van de ven',\n",
    "    'rogers',\n",
    "    'palmer',\n",
    "    'watkins'\n",
    "]\n",
    "values = [fpl_data_attributes.helper_fns.find_best_match(name) for name in names]\n",
    "values += list(fpl_data_attributes.personal_team_data.keys())\n",
    "custom_sum = data_vis_ops.build_player_tabular_summary(values)"
   ]
  },
  {
   "cell_type": "markdown",
   "metadata": {},
   "source": [
    "---"
   ]
  },
  {
   "cell_type": "markdown",
   "metadata": {
    "tags": []
   },
   "source": [
    "## Exploratory Data Analysis"
   ]
  },
  {
   "cell_type": "markdown",
   "metadata": {},
   "source": [
    "This section is catered to exploratory data analysis of latest trends seen from current season and associated performances."
   ]
  },
  {
   "cell_type": "code",
   "execution_count": null,
   "metadata": {},
   "outputs": [],
   "source": [
    "from copy import deepcopy\n",
    "import pandas as pd\n",
    "import matplotlib.pyplot as plt\n",
    "import matplotlib.patches as patches"
   ]
  },
  {
   "cell_type": "code",
   "execution_count": null,
   "metadata": {},
   "outputs": [],
   "source": [
    "fpl_data_attributes.score_players_on_form([355],6)"
   ]
  },
  {
   "cell_type": "code",
   "execution_count": null,
   "metadata": {},
   "outputs": [],
   "source": [
    "latest_data_from_fpl = deepcopy(fpl_data_attributes.helper_fns.master_summary)"
   ]
  },
  {
   "cell_type": "markdown",
   "metadata": {},
   "source": [
    "---"
   ]
  },
  {
   "cell_type": "markdown",
   "metadata": {},
   "source": [
    "Variables available from \"latest_data_from_fpl\":"
   ]
  },
  {
   "cell_type": "code",
   "execution_count": null,
   "metadata": {},
   "outputs": [],
   "source": [
    "create_search_widget(list(latest_data_from_fpl[1].keys()))"
   ]
  },
  {
   "cell_type": "markdown",
   "metadata": {},
   "source": [
    "#### ELO Ranking"
   ]
  },
  {
   "cell_type": "markdown",
   "metadata": {},
   "source": [
    "We want:\n",
    "- H_INDEX, A_INDEX: performance home/away of ALL games SO FAR\n",
    "- FDR_BASE_SCORE: Score from 0-100% that takes into account 3 factors; FDR, H/A, H/A significance (from index + adjusted by FDR)"
   ]
  },
  {
   "cell_type": "code",
   "execution_count": null,
   "metadata": {},
   "outputs": [],
   "source": [
    "fpl_data_attributes.replacement_players.head(50)"
   ]
  },
  {
   "cell_type": "code",
   "execution_count": null,
   "metadata": {},
   "outputs": [],
   "source": [
    "# import dash\n",
    "# from dash import dcc, html, Input, Output, dash_table\n",
    "# import pandas as pd\n",
    "# import numpy as np\n",
    "\n",
    "\n",
    "# df = fpl_data_attributes.replacement_players\n",
    "\n",
    "# app = dash.Dash(__name__)\n",
    "\n",
    "# app.layout = html.Div(style={'backgroundColor': '#f4f4f4', 'padding': '20px'}, children=[\n",
    "#     html.H1(\"Leaderboard\", style={'textAlign': 'center', 'color': '#333'}),\n",
    "#     dash_table.DataTable(\n",
    "#         id='leaderboard-table',\n",
    "#         columns=[\n",
    "#             {'name': 'Player Name', 'id': 'player_name'},\n",
    "#             {'name': 'Team Name', 'id': 'player_team'},\n",
    "#             {'name': 'Elo Form', 'id': 'elo_form_score_pres'},\n",
    "#             {'name': 'Elo Form Past', 'id': 'elo_form_score_hist'},\n",
    "#             {'name': 'Fixture Rating', 'id': 'fixture_score'}\n",
    "#         ],\n",
    "#         data=df.to_dict('records'),\n",
    "#         style_data_conditional=[\n",
    "#             {\n",
    "#                 'if': {'filter_query': '{elo_form_score_hist} > 1000', 'column_id': 'elo_form_score_hist'},\n",
    "#                 'backgroundColor': '#BACFD9'\n",
    "#             },\n",
    "#             {\n",
    "#                 'if': {'filter_query': '{elo_form_score_hist} >= 0 and {elo_form_score_hist} <= 1000', 'column_id': 'elo_form_score_hist'},\n",
    "#                 'backgroundColor': '#d4edda'\n",
    "#             },\n",
    "#             {\n",
    "#                 'if': {'filter_query': '{elo_form_score_hist} <= 0', 'column_id': 'elo_form_score_hist'},\n",
    "#                 'backgroundColor': '#f8d7da'\n",
    "#             },\n",
    "#             {\n",
    "#                 'if': {'filter_query': '{elo_form_score_pres} >= 8000', 'column_id': 'elo_form_score_pres'},\n",
    "#                 'backgroundColor': '#B8A3D6'\n",
    "#             },\n",
    "#             {\n",
    "#                 'if': {'filter_query': '{elo_form_score_pres} > 3000 and {elo_form_score_pres} < 8000', 'column_id': 'elo_form_score_pres'},\n",
    "#                 'backgroundColor': '#BACFD9'\n",
    "#             },\n",
    "#             {\n",
    "#                 'if': {'filter_query': '{elo_form_score_pres} > 1500 and {elo_form_score_pres} < 3000', 'column_id': 'elo_form_score_pres'},\n",
    "#                 'backgroundColor': '#d4edda'\n",
    "#             },\n",
    "#             {\n",
    "#                 'if': {'filter_query': '{elo_form_score_pres} <= 1500', 'column_id': 'elo_form_score_pres'},\n",
    "#                 'backgroundColor': '#f8d7da'\n",
    "#             },\n",
    "#             {\n",
    "#                 'if': {'filter_query': '{elo_form_score_pres} <= 1000', 'column_id': 'elo_form_score_pres'},\n",
    "#                 'backgroundColor': '#7E6F5D'\n",
    "#             },\n",
    "#             {\n",
    "#                 'if': {'filter_query': '{fixture_score} > 90', 'column_id': 'fixture_score'},\n",
    "#                 'backgroundColor': '#c3e6cb'\n",
    "#             },\n",
    "#             {\n",
    "#                 'if': {'filter_query': '{fixture_score} <= 90', 'column_id': 'fixture_score'},\n",
    "#                 'backgroundColor': '#f5c6cb'\n",
    "#             }\n",
    "#         ],\n",
    "#         style_header={\n",
    "#             'backgroundColor': '#007bff',\n",
    "#             'color': 'white',\n",
    "#             'fontWeight': 'bold'\n",
    "#         },\n",
    "#         style_cell={\n",
    "#             'padding': '10px',\n",
    "#             'textAlign': 'center',\n",
    "#             # Add any additional styling here\n",
    "#         }\n",
    "#     )\n",
    "# ])\n",
    "\n",
    "\n",
    "\n",
    "# # @app.callback(\n",
    "# #     Output('leaderboard-graph', 'figure')\n",
    "# # )\n",
    "# def update_graph(selected_metric):\n",
    "#     fig = px.bar(df.sort_values(by=selected_metric, ascending=False),\n",
    "#                  x='Player Name',\n",
    "#                  y=selected_metric,\n",
    "#                  title=f'Leaderboard by {selected_metric}')\n",
    "#     return fig\n",
    "\n",
    "# if __name__ == '__main__':\n",
    "#     app.run_server(debug=True, port=8052)\n"
   ]
  },
  {
   "cell_type": "markdown",
   "metadata": {},
   "source": [
    "---"
   ]
  },
  {
   "cell_type": "markdown",
   "metadata": {
    "tags": []
   },
   "source": [
    "### Box Plot Visualization"
   ]
  },
  {
   "cell_type": "code",
   "execution_count": null,
   "metadata": {},
   "outputs": [],
   "source": [
    "def generate_zipped_params(param_list, reference_dict):\n",
    "    parsed_data = [{param: data[param] for param in param_list} for player_id, data in reference_dict.items()]\n",
    "    result = []\n",
    "    keys = list(parsed_data[0].keys())\n",
    "    for d in parsed_data:\n",
    "        for i in range(len(d[keys[0]])):\n",
    "            if all(d[key][i][0] == d[keys[0]][i][0] for key in d.keys()):\n",
    "                result.append(tuple(d[key][i][1] for key in d.keys()))\n",
    "    return result\n",
    "\n",
    "def generate_box_plot_for_params(y_param, x_param, data):\n",
    "    \n",
    "    matched_tuples = generate_zipped_params([y_param,x_param], data)\n",
    "    \n",
    "    reference_df = pd.DataFrame(matched_tuples, columns=[y_param, x_param])\n",
    "    reference_df = reference_df.loc[reference_df[x_param] > 0]\n",
    "    \n",
    "    grouped = reference_df.groupby(x_param)[y_param].apply(list)\n",
    "\n",
    "    # Plotting\n",
    "    plt.figure(figsize=(20, 6))\n",
    "    plt.boxplot(grouped.values)\n",
    "    plt.xticks(range(1, len(grouped) + 1), grouped.index)\n",
    "    plt.xlabel(x_param)\n",
    "    plt.ylabel(y_param)\n",
    "    plt.title(f\"Box plots for every '{x_param}' value against attained '{y_param}'\")\n",
    "\n",
    "    # Add transparent rectangles\n",
    "    if x_param == \"total_points\":\n",
    "        plt.gca().add_patch(patches.Rectangle((0.5, plt.ylim()[0]), 3, plt.ylim()[1]-plt.ylim()[0],\n",
    "                                              alpha=0.3, color='red'))\n",
    "        plt.gca().add_patch(patches.Rectangle((3.5, plt.ylim()[0]), 2, plt.ylim()[1]-plt.ylim()[0],\n",
    "                                              alpha=0.3, color='yellow'))\n",
    "        plt.gca().add_patch(patches.Rectangle((5.5, plt.ylim()[0]), 4, plt.ylim()[1]-plt.ylim()[0],\n",
    "                                              alpha=0.3, color='green'))\n",
    "        plt.gca().add_patch(patches.Rectangle((9.5, plt.ylim()[0]), 22, plt.ylim()[1]-plt.ylim()[0],\n",
    "                                             alpha=0.3, color='blue'))\n",
    "    plt.show()"
   ]
  },
  {
   "cell_type": "code",
   "execution_count": null,
   "metadata": {},
   "outputs": [],
   "source": [
    "generate_box_plot_for_params(\n",
    "    y_param = 'value', \n",
    "    x_param = 'total_points',\n",
    "    data = latest_data_from_fpl\n",
    ")"
   ]
  },
  {
   "cell_type": "markdown",
   "metadata": {},
   "source": [
    "---"
   ]
  }
 ],
 "metadata": {
  "kernelspec": {
   "display_name": ".venv_fpl",
   "language": "python",
   "name": "python3"
  },
  "language_info": {
   "codemirror_mode": {
    "name": "ipython",
    "version": 3
   },
   "file_extension": ".py",
   "mimetype": "text/x-python",
   "name": "python",
   "nbconvert_exporter": "python",
   "pygments_lexer": "ipython3",
   "version": "3.11.7"
  }
 },
 "nbformat": 4,
 "nbformat_minor": 4
}
